{
  "nbformat": 4,
  "nbformat_minor": 0,
  "metadata": {
    "colab": {
      "name": "lists",
      "provenance": [],
      "collapsed_sections": [],
      "authorship_tag": "ABX9TyNpYZP/Mt6OUBZg2mENRYJx",
      "include_colab_link": true
    },
    "kernelspec": {
      "name": "python3",
      "display_name": "Python 3"
    }
  },
  "cells": [
    {
      "cell_type": "markdown",
      "metadata": {
        "id": "view-in-github",
        "colab_type": "text"
      },
      "source": [
        "<a href=\"https://colab.research.google.com/github/HARITIKAPANDIT/NOTEBOOK/blob/master/lists.ipynb\" target=\"_parent\"><img src=\"https://colab.research.google.com/assets/colab-badge.svg\" alt=\"Open In Colab\"/></a>"
      ]
    },
    {
      "cell_type": "markdown",
      "metadata": {
        "id": "clgg2k8KjI59",
        "colab_type": "text"
      },
      "source": [
        "#**LISTS IN PYTHON**\n",
        "\n",
        "\n",
        "\n",
        "\n",
        "\n"
      ]
    },
    {
      "cell_type": "markdown",
      "metadata": {
        "id": "CYXVgBSQjGlC",
        "colab_type": "text"
      },
      "source": [
        "**CREATING THE LISTS**"
      ]
    },
    {
      "cell_type": "code",
      "metadata": {
        "id": "6XNAzTZ6cV9N",
        "colab_type": "code",
        "outputId": "257bb165-5968-46b7-f0fe-19c0038a2940",
        "colab": {
          "base_uri": "https://localhost:8080/",
          "height": 34
        }
      },
      "source": [
        "#creating a list of numbers and printing it\n",
        "list = [1,2,3]\n",
        "print(list)\n"
      ],
      "execution_count": 1,
      "outputs": [
        {
          "output_type": "stream",
          "text": [
            "[1, 2, 3]\n"
          ],
          "name": "stdout"
        }
      ]
    },
    {
      "cell_type": "code",
      "metadata": {
        "id": "r-xgJeXGi-Xg",
        "colab_type": "code",
        "colab": {}
      },
      "source": [
        "#creating list of mixed data and fetching it using index\n",
        "list2 = [1,'one','two',2]\n",
        "print(list2[2]) \n"
      ],
      "execution_count": 0,
      "outputs": []
    },
    {
      "cell_type": "markdown",
      "metadata": {
        "id": "js2jIfrI0DAx",
        "colab_type": "text"
      },
      "source": [
        "#**FUNCTIONS IN LISTS**"
      ]
    },
    {
      "cell_type": "markdown",
      "metadata": {
        "id": "vdbCdSegIGhX",
        "colab_type": "text"
      },
      "source": [
        "**CHECKING THE LENGTH OF LIST**"
      ]
    },
    {
      "cell_type": "code",
      "metadata": {
        "id": "R2QpiJ6hi9o5",
        "colab_type": "code",
        "colab": {}
      },
      "source": [
        "#printing the length of list using len() function\n",
        "list2 = [1,'one','two',2]\n",
        "print(len(list2))"
      ],
      "execution_count": 0,
      "outputs": []
    },
    {
      "cell_type": "markdown",
      "metadata": {
        "id": "MOTntHSMInGA",
        "colab_type": "text"
      },
      "source": [
        "**ADDING ELEMENT IN LIST**"
      ]
    },
    {
      "cell_type": "code",
      "metadata": {
        "id": "8ij_Phms2PwO",
        "colab_type": "code",
        "colab": {}
      },
      "source": [
        "#adding a single element to list using append() function\n",
        "list2 = [1,'one','two',2]\n",
        "list2.append(3)\n",
        "print(len(list2))\n",
        "print(list2)"
      ],
      "execution_count": 0,
      "outputs": []
    },
    {
      "cell_type": "code",
      "metadata": {
        "id": "LRm9B4ir2Q3p",
        "colab_type": "code",
        "colab": {}
      },
      "source": [
        "#adding element in a list at a specific index using insert() function\n",
        "list2 = [1,'one','two',2]\n",
        "list2.insert(0,'lists')\n",
        "print(list2)"
      ],
      "execution_count": 0,
      "outputs": []
    },
    {
      "cell_type": "markdown",
      "metadata": {
        "id": "lI5oXi93eQvq",
        "colab_type": "text"
      },
      "source": [
        "**ADDING LIST TO A LIST**"
      ]
    },
    {
      "cell_type": "code",
      "metadata": {
        "id": "IUuwY1a42Qv6",
        "colab_type": "code",
        "colab": {}
      },
      "source": [
        "#adding a whole list to the existing list\n",
        "list3 = ['three',4,'four']\n",
        "list2.append(list3)\n",
        "print(list2)"
      ],
      "execution_count": 0,
      "outputs": []
    },
    {
      "cell_type": "markdown",
      "metadata": {
        "id": "sLFKckw1fKUS",
        "colab_type": "text"
      },
      "source": [
        "**USING EXTEND FUNCTION**"
      ]
    },
    {
      "cell_type": "code",
      "metadata": {
        "id": "te98Z-gm2RJu",
        "colab_type": "code",
        "colab": {}
      },
      "source": [
        "#adding multiple elements in the list using extend() function\n",
        "list2 = [1,'one','two',2]\n",
        "list2.extend([5,'five',6])\n",
        "print(list2)"
      ],
      "execution_count": 0,
      "outputs": []
    },
    {
      "cell_type": "markdown",
      "metadata": {
        "id": "WwWQbLISkVFc",
        "colab_type": "text"
      },
      "source": [
        "**MULTI DIMENSIONAL LIST**"
      ]
    },
    {
      "cell_type": "code",
      "metadata": {
        "id": "k6xRBDFdOQJA",
        "colab_type": "code",
        "colab": {}
      },
      "source": [
        "#creating a multi dimensional list\n",
        "list4 = [['one','two','three'],[1,2,3]]\n",
        "#printing multi dimensional element\n",
        "print(list4[0][1])\n",
        "print(list4[1][0])\n",
        "print(list4[0][2])"
      ],
      "execution_count": 0,
      "outputs": []
    },
    {
      "cell_type": "markdown",
      "metadata": {
        "id": "x3pyvcBsklBt",
        "colab_type": "text"
      },
      "source": [
        "**NEGATIVE INDEXING**"
      ]
    },
    {
      "cell_type": "code",
      "metadata": {
        "id": "tYwxQ6P1kq6H",
        "colab_type": "code",
        "colab": {}
      },
      "source": [
        "#printing the list in reverse order\n",
        "print(list2[::-1])"
      ],
      "execution_count": 0,
      "outputs": []
    },
    {
      "cell_type": "code",
      "metadata": {
        "id": "2ci1zB3POQZk",
        "colab_type": "code",
        "colab": {}
      },
      "source": [
        "#NEGATIVE INDEXING\n",
        "list = [1,2,3,4,5,6,7,8,9,10]\n",
        "print(list[-1])\n",
        "print(list[-2])"
      ],
      "execution_count": 0,
      "outputs": []
    },
    {
      "cell_type": "markdown",
      "metadata": {
        "id": "Cet_-s4AkwFo",
        "colab_type": "text"
      },
      "source": [
        "**REMOVING ELEMENTS FROM LIST**"
      ]
    },
    {
      "cell_type": "code",
      "metadata": {
        "id": "06gTAH9cOQk0",
        "colab_type": "code",
        "colab": {}
      },
      "source": [
        "#removing element from list using remove() method\n",
        "list = [1,2,3,4,5]\n",
        "list.remove(5)\n",
        "print(list)\n"
      ],
      "execution_count": 0,
      "outputs": []
    },
    {
      "cell_type": "code",
      "metadata": {
        "id": "h2M1P6JDCS_1",
        "colab_type": "code",
        "colab": {}
      },
      "source": [
        "#using for loop for removing elements\n",
        "list = [1,2,3,4,5,6,7,8,9,10]\n",
        "for i in range(1,5):\n",
        "    list.remove(i)\n",
        "print(list)"
      ],
      "execution_count": 0,
      "outputs": []
    },
    {
      "cell_type": "code",
      "metadata": {
        "id": "GikWIHw1CTQU",
        "colab_type": "code",
        "colab": {}
      },
      "source": [
        "#removing element from a specific position using pop() function\n",
        "list = [1,2,3,4,5,6]\n",
        "list.pop(2)    #removing element on 2nd index\n",
        "print(list)"
      ],
      "execution_count": 0,
      "outputs": []
    },
    {
      "cell_type": "code",
      "metadata": {
        "id": "xtfbzTQsCTcE",
        "colab_type": "code",
        "colab": {}
      },
      "source": [
        "#printing a list \n",
        "list = ['GO','WASH','YOUR','HANDS','&','BE','SAFE']\n",
        "print(\"WHOLE LIST :\")\n",
        "print(list)"
      ],
      "execution_count": 0,
      "outputs": []
    },
    {
      "cell_type": "markdown",
      "metadata": {
        "id": "ocRux_iDlDUQ",
        "colab_type": "text"
      },
      "source": [
        "**SLICING OF LISTS**"
      ]
    },
    {
      "cell_type": "code",
      "metadata": {
        "id": "dNvsD2H7GEnZ",
        "colab_type": "code",
        "colab": {}
      },
      "source": [
        "#applying slice operation on the same list\n",
        "list = ['GO','WASH','YOUR','HANDS','&','BE','SAFE']\n",
        "sliced_list = list[1:6]              #printing the elements in range\n",
        "print(sliced_list)"
      ],
      "execution_count": 0,
      "outputs": []
    },
    {
      "cell_type": "code",
      "metadata": {
        "id": "Qh0G_V96GElw",
        "colab_type": "code",
        "colab": {}
      },
      "source": [
        "#printing elements from a pre-defined point to end\n",
        "list = ['GO','WASH','YOUR','HANDS','&','BE','SAFE']\n",
        "sliced_list = list[1:]\n",
        "print(sliced_list)\n"
      ],
      "execution_count": 0,
      "outputs": []
    },
    {
      "cell_type": "code",
      "metadata": {
        "id": "ZPVAGHKXGEiE",
        "colab_type": "code",
        "colab": {}
      },
      "source": [
        "#printing the whole list from begining to the end \n",
        "list = ['GO','WASH','YOUR','HANDS','&','BE','SAFE']\n",
        "sliced_list = list[:]\n",
        "print(sliced_list)"
      ],
      "execution_count": 0,
      "outputs": []
    },
    {
      "cell_type": "code",
      "metadata": {
        "id": "_1hJzCbkHu8I",
        "colab_type": "code",
        "colab": {}
      },
      "source": [
        "#printing the list in reverse order\n",
        "list2 = [1,'one','two',2]\n",
        "print(list2)\n",
        "print(list2[::-1])"
      ],
      "execution_count": 0,
      "outputs": []
    }
  ]
}