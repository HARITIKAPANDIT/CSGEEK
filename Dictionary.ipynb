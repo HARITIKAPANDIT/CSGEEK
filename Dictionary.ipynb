{
 "cells": [
  {
   "cell_type": "markdown",
   "metadata": {},
   "source": [
    "### Using Simple List to fetch the number of students from the class"
   ]
  },
  {
   "cell_type": "code",
   "execution_count": 6,
   "metadata": {},
   "outputs": [
    {
     "name": "stdout",
     "output_type": "stream",
     "text": [
      "Index of the Given Class 3\n",
      "Number of Students in the Given Class 41\n"
     ]
    }
   ],
   "source": [
    "#making two lists\n",
    "student =[52,35,65,41,53]\n",
    "classes =[\"10A\",\"12B\",\"10B\",\"11A\",\"10C\"]\n",
    "\n",
    "#using index() to get the index\n",
    "ind_11A = classes.index(\"11A\")\n",
    "\n",
    "#printing the index\n",
    "print(\"Index of the Given Class\",ind_11A)\n",
    "\n",
    "#printing the student no. of class 11A\n",
    "print(\"Number of Students in the Given Class\",student[ind_11A])"
   ]
  },
  {
   "cell_type": "markdown",
   "metadata": {},
   "source": [
    "## Using Dictionary"
   ]
  },
  {
   "cell_type": "markdown",
   "metadata": {},
   "source": [
    "### Finding number of students in a particular class"
   ]
  },
  {
   "cell_type": "code",
   "execution_count": 11,
   "metadata": {},
   "outputs": [
    {
     "name": "stdout",
     "output_type": "stream",
     "text": [
      "Students in the Given Class:  41\n"
     ]
    }
   ],
   "source": [
    "#creating a dictionary school\n",
    "school = {\"10A\" : 52, \"12B\" : 35, \"10B\" : 65, \"11A\" : 41, \"10C\" : 53}\n",
    "\n",
    "#printing student in class 11A\n",
    "print(\"Students in the Given Class: \",school[\"11A\"])"
   ]
  },
  {
   "cell_type": "markdown",
   "metadata": {},
   "source": [
    "### Adding a new Class to the dictionary"
   ]
  },
  {
   "cell_type": "code",
   "execution_count": 12,
   "metadata": {},
   "outputs": [],
   "source": [
    "#adding element to the existing dictionary\n",
    "school[\"12A\"]=45"
   ]
  },
  {
   "cell_type": "code",
   "execution_count": 13,
   "metadata": {},
   "outputs": [
    {
     "name": "stdout",
     "output_type": "stream",
     "text": [
      "Dictionary After Adding the New Class in the Record:  {'10A': 52, '12B': 35, '10B': 65, '11A': 41, '10C': 53, '12A': 45}\n"
     ]
    }
   ],
   "source": [
    "print(\"Dictionary After Adding the New Class in the Record: \",school)"
   ]
  },
  {
   "cell_type": "markdown",
   "metadata": {},
   "source": [
    "### Deleting a class from the dictionary"
   ]
  },
  {
   "cell_type": "code",
   "execution_count": 14,
   "metadata": {},
   "outputs": [
    {
     "name": "stdout",
     "output_type": "stream",
     "text": [
      "Dictionary After Removing Record on One Class:  {'10A': 52, '12B': 35, '10B': 65, '11A': 41, '10C': 53}\n"
     ]
    }
   ],
   "source": [
    "#removing any element from dictionary\n",
    "del(school[\"12A\"])\n",
    "\n",
    "#printing the list\n",
    "print(\"Dictionary After Removing Record on One Class: \",school)"
   ]
  },
  {
   "cell_type": "code",
   "execution_count": null,
   "metadata": {},
   "outputs": [],
   "source": []
  }
 ],
 "metadata": {
  "kernelspec": {
   "display_name": "Python 3",
   "language": "python",
   "name": "python3"
  },
  "language_info": {
   "codemirror_mode": {
    "name": "ipython",
    "version": 3
   },
   "file_extension": ".py",
   "mimetype": "text/x-python",
   "name": "python",
   "nbconvert_exporter": "python",
   "pygments_lexer": "ipython3",
   "version": "3.6.1"
  }
 },
 "nbformat": 4,
 "nbformat_minor": 2
}
